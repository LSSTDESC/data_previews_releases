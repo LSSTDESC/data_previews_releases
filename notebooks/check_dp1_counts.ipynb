{
 "cells": [
  {
   "cell_type": "markdown",
   "id": "29bbbdd4-ead8-406f-b76b-a09a34053496",
   "metadata": {},
   "source": [
    "### Simple object count for DP1\n",
    "Based on a notebook from Perter Ferguson and Douglas Tucker."
   ]
  },
  {
   "cell_type": "code",
   "execution_count": null,
   "id": "d48199ec-d978-443c-8996-8c5ccc3ee69e",
   "metadata": {},
   "outputs": [],
   "source": [
    "import numpy as np\n",
    "import os\n",
    "import matplotlib.pyplot as plt\n",
    "from astropy.table import vstack\n",
    "import warnings\n",
    "warnings.filterwarnings('ignore')\n",
    "\n",
    "from lsst.daf.butler import Butler"
   ]
  },
  {
   "cell_type": "code",
   "execution_count": null,
   "id": "7b853b33-6612-4efb-bcd2-8f59d79a6492",
   "metadata": {},
   "outputs": [],
   "source": [
    "# these  are specific to NERSC\n",
    "repo=\"/repo/DP1\"\n",
    "collection=\"LSSTComCam/DP1\"\n",
    "instrument = 'LSSTComCam'\n",
    "skymap = 'lsst_cells_v1'\n",
    "\n",
    "\n"
   ]
  },
  {
   "cell_type": "code",
   "execution_count": null,
   "id": "d69cf9a0-fb23-4a10-9a9a-025279e52dff",
   "metadata": {},
   "outputs": [],
   "source": [
    "tract_list = [453, 454, 4849, 5063, 4848, 2394, 2234, 4016, 4017, 4218, 4217, 5525, 5526, 7611, 7610, 7850, 10463, 10464, 10704]\n",
    "tract_dict={453: '47 Tuc', \n",
    "            454: '47 Tuc',\n",
    "           4849: 'ECDFS', \n",
    "           5063: 'ECDFS',\n",
    "           4848: 'ECDFS', \n",
    "           2394: 'EDFS', \n",
    "           2234: 'EDFS',\n",
    "           4016: 'Fornax', \n",
    "           4017: 'Fornax', \n",
    "           4218: 'Fornax', \n",
    "           4217: 'Fornax', \n",
    "           5525: 'Rubin_SV_095-25', \n",
    "           5526: 'Rubin_SV_095-25', \n",
    "           7611: 'Seagull', \n",
    "           7610: 'Seagull', \n",
    "           7850: 'Seagull',\n",
    "           10463: 'Rubin_SV_38_7', \n",
    "           10464: 'Rubin_SV_38_7', \n",
    "           10704: 'Rubin_SV_38_7'\n",
    "           }"
   ]
  },
  {
   "cell_type": "code",
   "execution_count": null,
   "id": "cd8c0014-885c-49da-8b7d-4116d197aba4",
   "metadata": {},
   "outputs": [],
   "source": [
    "zeropoint = 31.4 # AB zeropoint, THIS IS POSSIBLY WRONG\n",
    "def flux2mag(flux):\n",
    "    return -2.5*np.log10(flux) + zeropoint\n",
    "def fluxerr2magerr(flux,fluxerr):\n",
    "    return ((-2.5*fluxerr)/(np.log(10)*flux))"
   ]
  },
  {
   "cell_type": "code",
   "execution_count": null,
   "id": "20a28d08-879b-4ab4-98aa-8863d787ff6a",
   "metadata": {},
   "outputs": [],
   "source": [
    "# specific to NERSC\n",
    "os.environ['DAF_BUTLER_REPOSITORY_INDEX'] = '/global/cfs/cdirs/lsst/production/gen3/shared/data-repos.yaml'"
   ]
  },
  {
   "cell_type": "code",
   "execution_count": null,
   "id": "ab024c6f-6e84-466b-9c9e-6d3457d9fd5c",
   "metadata": {},
   "outputs": [],
   "source": [
    "butler = Butler(repo, collections=collection)\n",
    "assert butler is not None"
   ]
  },
  {
   "cell_type": "code",
   "execution_count": null,
   "id": "c8b2f70f-d5a8-4723-9618-6030a24b3629",
   "metadata": {},
   "outputs": [],
   "source": [
    "INCOLS = [\n",
    "    'coord_ra',\n",
    "    'coord_dec',\n",
    "]\n",
    "bands=\"ugrizy\"\n",
    "for band in bands:\n",
    "    INCOLS += [\n",
    "        f'{band}_psfFlux',\n",
    "        f'{band}_psfFluxErr',\n",
    "        #f'{band}_ap12Flux',\n",
    "        #f'{band}_ap12FluxErr',\n",
    "        f'{band}_gaap1p0Flux',\n",
    "        f'{band}_gaap1p0FluxErr',\n",
    "        f'{band}_extendedness',\n",
    "        f'{band}_psfFlux_flag'\n",
    "    ]\n"
   ]
  },
  {
   "cell_type": "code",
   "execution_count": null,
   "id": "69acd066-b2a6-4f88-ba30-26a28967ec9c",
   "metadata": {},
   "outputs": [],
   "source": [
    "comcam_galaxies_list = []\n",
    "comcam_list = []\n",
    "comcam_ecdfs_list = []\n",
    "comcam_edfs_list = []\n",
    "\n",
    "for tractId in tract_list:\n",
    "\n",
    "    print()\n",
    "    print(f'tract: {tractId}, field: {tract_dict[tractId]}')\n",
    "\n",
    "    try:\n",
    "    \n",
    "        raw_comcam = butler.get('object', dataId={'skymap': skymap, 'tract': tractId}, \n",
    "                                collections=[collection],\n",
    "                                parameters={\"columns\":INCOLS})\n",
    "\n",
    "        # Insert tractId as the first column\n",
    "        raw_comcam['tractId'] = tractId  \n",
    "    \n",
    "        # Insert field name -- if known -- as the second column\n",
    "        if tractId in tract_dict:\n",
    "            field = tract_dict[tractId]\n",
    "        else:\n",
    "            field = 'unknown'\n",
    "        raw_comcam['field'] = field  \n",
    "\n",
    "        # Clean the catalog\n",
    "        #sel = (raw_comcam['detect_isPrimary'] == True)\n",
    "        sel = (raw_comcam['r_psfFlux']/raw_comcam['r_psfFluxErr'] > 5)\n",
    "        for band in ['g','r','i']:\n",
    "            sel &= (raw_comcam[f'{band}_psfFlux_flag'] == 0)\n",
    "\n",
    "        for band in bands:\n",
    "            raw_comcam[f'{band}_gaap1p0Mag'] = flux2mag(raw_comcam[f'{band}_gaap1p0Flux'])\n",
    "            raw_comcam[f'{band}_gaap1p0Magerr'] = fluxerr2magerr(raw_comcam[f'{band}_gaap1p0Flux'],raw_comcam[f'{band}_gaap1p0FluxErr'])\n",
    "\n",
    "        comcam = raw_comcam[sel]\n",
    "\n",
    "        # Find just the (most likely) stars...\n",
    "        sel_comcam_galaxies =  (comcam['r_extendedness'] > 0.5) | (comcam['i_extendedness'] > 0.5)\n",
    "        comcam_galaxies = comcam[sel_comcam_galaxies] \n",
    "        print(f\"Number of objects: {len(comcam)}\")\n",
    "        print(f\"Number of galaxies: {len(comcam_galaxies)}\")\n",
    "\n",
    "        # Append the dataframe to the list\n",
    "        comcam_galaxies_list.append(comcam_galaxies) \n",
    "        comcam_list.append(comcam)\n",
    "        if tract_dict[tractId] == 'ECDFS':\n",
    "            comcam_ecdfs_list.append(comcam)\n",
    "        elif tract_dict[tractId] == 'EDFS':\n",
    "            comcam_edfs_list.append(comcam)\n",
    "\n",
    "    # Catch any exception\n",
    "    except Exception as e:\n",
    "\n",
    "        print(f\"An error occurred for tractId {tractId}: {e}\")\n",
    "\n",
    "\n",
    "# Concatenate all dataframes in the list\n",
    "comcam_all = vstack(comcam_list)  \n",
    "print(f\"Total number of objects: {len(comcam_all)}\")\n",
    "comcam_galaxies_all = vstack(comcam_galaxies_list)  \n",
    "print(f\"Total number of galaxies: {len(comcam_galaxies_all)}\")\n",
    "comcam_ecdfs_all = vstack(comcam_ecdfs_list)\n",
    "print(f\"Total number of objects in ECDFS: {len(comcam_ecdfs_all)}\")\n",
    "comcam_edfs_all = vstack(comcam_edfs_list)\n",
    "print(f\"Total number of objects in EDFS: {len(comcam_edfs_all)}\")\n"
   ]
  },
  {
   "cell_type": "code",
   "execution_count": null,
   "id": "68c3badf-01f0-43a4-84ec-87d8b20fcb67",
   "metadata": {},
   "outputs": [],
   "source": []
  }
 ],
 "metadata": {
  "kernelspec": {
   "display_name": "desc-stack-weekly",
   "language": "python",
   "name": "desc-stack-weekly"
  },
  "language_info": {
   "codemirror_mode": {
    "name": "ipython",
    "version": 3
   },
   "file_extension": ".py",
   "mimetype": "text/x-python",
   "name": "python",
   "nbconvert_exporter": "python",
   "pygments_lexer": "ipython3",
   "version": "3.12.9"
  }
 },
 "nbformat": 4,
 "nbformat_minor": 5
}
