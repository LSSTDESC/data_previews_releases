{
 "cells": [
  {
   "cell_type": "markdown",
   "id": "7a0cd87c-3573-4661-9acc-0da5139e59fd",
   "metadata": {},
   "source": [
    "### Simple image for DP1\n",
    "Taken from https://dp1.lsst.io/tutorials/notebook/103/notebook-103-1.html and with input from Patricia Larsen."
   ]
  },
  {
   "cell_type": "code",
   "execution_count": null,
   "id": "9068c688-6d70-4388-ba85-0999b4be73aa",
   "metadata": {},
   "outputs": [],
   "source": [
    "from lsst.daf.butler import Butler, Timespan\n",
    "import lsst.afw.display as afwDisplay\n",
    "from lsst.afw.image._image import ImageF\n",
    "import matplotlib.pyplot as plt\n",
    "import os"
   ]
  },
  {
   "cell_type": "code",
   "execution_count": null,
   "id": "dc0c90f9-69ad-4d6d-93e0-d5c73336fde4",
   "metadata": {},
   "outputs": [],
   "source": [
    "afwDisplay.setDefaultBackend(\"matplotlib\")\n",
    "plt.style.use('tableau-colorblind10')"
   ]
  },
  {
   "cell_type": "code",
   "execution_count": null,
   "id": "d3ac4440-e00e-4b78-a404-69f437b29449",
   "metadata": {},
   "outputs": [],
   "source": [
    "os.environ['DAF_BUTLER_REPOSITORY_INDEX'] = '/global/cfs/cdirs/lsst/production/gen3/shared/data-repos.yaml'"
   ]
  },
  {
   "cell_type": "code",
   "execution_count": null,
   "id": "cbb3739b-b3be-4c05-b538-63221f33dc91",
   "metadata": {},
   "outputs": [],
   "source": [
    "repo=\"/repo/DP1\"\n",
    "collection=\"LSSTComCam/DP1\"\n",
    "instrument = 'LSSTComCam'\n",
    "skymap = 'lsst_cells_v1'"
   ]
  },
  {
   "cell_type": "code",
   "execution_count": null,
   "id": "3ef52c95-ab6c-4067-80c0-99a9760549cd",
   "metadata": {},
   "outputs": [],
   "source": [
    "butler = Butler(repo, collections=\"LSSTComCam/DP1\")\n",
    "assert butler is not None"
   ]
  },
  {
   "cell_type": "code",
   "execution_count": null,
   "id": "f6022b64-b757-4d42-90cb-eb52b2a5760c",
   "metadata": {},
   "outputs": [],
   "source": [
    "ra = 53.076\n",
    "dec = -28.110\n",
    "band = 'r'"
   ]
  },
  {
   "cell_type": "code",
   "execution_count": null,
   "id": "180d6080-02b8-4e5c-b477-89d2436aeb4b",
   "metadata": {},
   "outputs": [],
   "source": [
    "query = \"\"\"band.name = '{}' AND patch.region OVERLAPS POINT({}, {})\n",
    "        \"\"\".format(band, ra, dec)\n",
    "print(query)"
   ]
  },
  {
   "cell_type": "code",
   "execution_count": null,
   "id": "aaaa6993-61b5-4f5c-8f81-f54025d9854a",
   "metadata": {},
   "outputs": [],
   "source": [
    "dataset_refs = butler.query_datasets(\"deep_coadd\", where=query)"
   ]
  },
  {
   "cell_type": "code",
   "execution_count": null,
   "id": "4ccdbda7-cd7a-48fd-9224-92e63467d513",
   "metadata": {},
   "outputs": [],
   "source": [
    "deep_coadd = butler.get(dataset_refs[0])"
   ]
  },
  {
   "cell_type": "code",
   "execution_count": null,
   "id": "66144cba-4d3f-4bf0-9c82-46e6fc964a1e",
   "metadata": {},
   "outputs": [],
   "source": [
    "fig, ax = plt.subplots(1, 1, figsize=(8, 6), dpi=150)\n",
    "Q = 10\n",
    "plt.sca(ax)\n",
    "display0 = afwDisplay.Display(frame=fig)\n",
    "display0.scale('asinh', min=0, max=25/Q, Q=Q)\n",
    "display0.mtv(deep_coadd.image)\n",
    "plt.title('coadd image')\n",
    "plt.show()"
   ]
  },
  {
   "cell_type": "code",
   "execution_count": null,
   "id": "54fe2724-9c74-410a-a708-063ff1568b35",
   "metadata": {},
   "outputs": [],
   "source": []
  }
 ],
 "metadata": {
  "kernelspec": {
   "display_name": "desc-stack-weekly",
   "language": "python",
   "name": "desc-stack-weekly"
  },
  "language_info": {
   "codemirror_mode": {
    "name": "ipython",
    "version": 3
   },
   "file_extension": ".py",
   "mimetype": "text/x-python",
   "name": "python",
   "nbconvert_exporter": "python",
   "pygments_lexer": "ipython3",
   "version": "3.12.9"
  }
 },
 "nbformat": 4,
 "nbformat_minor": 5
}
