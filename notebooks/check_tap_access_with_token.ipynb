{
 "cells": [
  {
   "cell_type": "markdown",
   "id": "89dd177b-b357-4608-8876-60908bf1cf63",
   "metadata": {},
   "source": [
    "### Simple TAP query test"
   ]
  },
  {
   "cell_type": "markdown",
   "id": "91c79871-6fa8-4ac3-86db-ee05ebea50bd",
   "metadata": {},
   "source": [
    "Taken from a combination of this thread:\n",
    "https://community.lsst.org/t/will-there-be-external-tap-access-to-rsp-dp0-2-tables/6660/7\n",
    "and this tutorial\n",
    "https://github.com/lsst/tutorial-notebooks/blob/main/DP1/100_How_to_Use_RSP_Tools/102_Catalog_access/102_2_Catalog_queries_with_TAP.ipynb\n",
    "\n",
    "This will perform synchronous queries (not async as recommended by Rubin here: https://github.com/lsst/tutorial-notebooks/blob/main/DP1/100_How_to_Use_RSP_Tools/102_Catalog_access/102_1_Get_started_with_TAP.ipynb)"
   ]
  },
  {
   "cell_type": "markdown",
   "id": "cc7aba06-8deb-4593-89a5-f6f3e9c1e22b",
   "metadata": {},
   "source": [
    "Instructions to generate token from data.lsst.cloud\n",
    "https://rsp.lsst.io/guides/auth/creating-user-tokens.html\n"
   ]
  },
  {
   "cell_type": "code",
   "execution_count": null,
   "id": "fe41714e-2d66-45e9-b2ca-6e347eb38dca",
   "metadata": {},
   "outputs": [],
   "source": [
    "import numpy as np\n",
    "import pyvo\n",
    "import requests"
   ]
  },
  {
   "cell_type": "code",
   "execution_count": null,
   "id": "28816493-02df-4c1d-a372-7116aae51ef9",
   "metadata": {},
   "outputs": [],
   "source": [
    "tap_url = 'https://data.lsst.cloud/api/tap'\n",
    "token = 'yy-xxxxxxxxxxxxxxxx'# INSERT YOUR TOKEN HERE"
   ]
  },
  {
   "cell_type": "code",
   "execution_count": null,
   "id": "530a8fd8-bd12-40b9-a0eb-1eb4d1f41eea",
   "metadata": {},
   "outputs": [],
   "source": [
    "cred = pyvo.auth.CredentialStore()\n",
    "cred.set_password(\"x-oauth-basic\", token)\n",
    "tap = pyvo.dal.TAPService(tap_url, session=cred.get(\"ivo://ivoa.net/sso#BasicAA\"))"
   ]
  },
  {
   "cell_type": "code",
   "execution_count": null,
   "id": "c84253f8-8607-4640-8bcb-a3fd6576a964",
   "metadata": {},
   "outputs": [],
   "source": [
    "query = \"SELECT * FROM tap_schema.schemas\"\n",
    "results = tap.run_sync(query)\n",
    "results.to_table()"
   ]
  },
  {
   "cell_type": "code",
   "execution_count": null,
   "id": "fdf432fe-5fd1-468b-87bd-4ac4ee334e0e",
   "metadata": {},
   "outputs": [],
   "source": [
    "query = \"\"\"SELECT coord_ra, coord_dec\n",
    "        FROM dp1.Object\n",
    "        WHERE CONTAINS(POINT('ICRS', coord_ra, coord_dec),\n",
    "        CIRCLE('ICRS', 53, -28, 0.01)) = 1\"\"\"\n",
    "print(query)"
   ]
  },
  {
   "cell_type": "code",
   "execution_count": null,
   "id": "3a519dd4-c2ff-459c-abbe-84d5da96772c",
   "metadata": {},
   "outputs": [],
   "source": [
    "results = tap.run_sync(query)\n",
    "results.to_table()"
   ]
  },
  {
   "cell_type": "code",
   "execution_count": null,
   "id": "029f835a-e459-4a5c-97b3-bd554d6c29f6",
   "metadata": {},
   "outputs": [],
   "source": []
  }
 ],
 "metadata": {
  "kernelspec": {
   "display_name": "desc-stack-weekly",
   "language": "python",
   "name": "desc-stack-weekly"
  },
  "language_info": {
   "codemirror_mode": {
    "name": "ipython",
    "version": 3
   },
   "file_extension": ".py",
   "mimetype": "text/x-python",
   "name": "python",
   "nbconvert_exporter": "python",
   "pygments_lexer": "ipython3",
   "version": "3.12.9"
  }
 },
 "nbformat": 4,
 "nbformat_minor": 5
}
